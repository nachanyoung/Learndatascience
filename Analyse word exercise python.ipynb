{
 "cells": [
  {
   "cell_type": "code",
   "execution_count": 7,
   "id": "0ac38cdf",
   "metadata": {},
   "outputs": [],
   "source": [
    "class analysedText(object):\n",
    "    \n",
    "    def __init__ (self, text):\n",
    "\n",
    "        fmtText=text.lower().replace('.','').replace('!','').replace(',','').replace('?','')\n",
    "        self.fmtText=fmtText\n",
    "        \n",
    "       \n",
    "    \n",
    "    def freqAll(self):    \n",
    "        dic={}\n",
    "        xx = self.fmtText.split()\n",
    "        for x in xx:\n",
    "            dic[x]=xx.count(x)\n",
    "        return dic\n",
    "      \n",
    "     \n",
    "    def freqOf(self, wrd):\n",
    "        z = self.freqAll()\n",
    "        if(wrd in z):\n",
    "            return z[wrd]\n",
    "        else:\n",
    "            return 0\n",
    "        \n",
    "                \n",
    "        \n",
    "      "
   ]
  },
  {
   "cell_type": "code",
   "execution_count": null,
   "id": "e85f609d",
   "metadata": {},
   "outputs": [],
   "source": []
  }
 ],
 "metadata": {
  "kernelspec": {
   "display_name": "Python 3 (ipykernel)",
   "language": "python",
   "name": "python3"
  },
  "language_info": {
   "codemirror_mode": {
    "name": "ipython",
    "version": 3
   },
   "file_extension": ".py",
   "mimetype": "text/x-python",
   "name": "python",
   "nbconvert_exporter": "python",
   "pygments_lexer": "ipython3",
   "version": "3.10.9"
  }
 },
 "nbformat": 4,
 "nbformat_minor": 5
}
