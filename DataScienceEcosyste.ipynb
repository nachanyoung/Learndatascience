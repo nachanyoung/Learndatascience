{
 "cells": [
  {
   "cell_type": "markdown",
   "id": "876583f0",
   "metadata": {},
   "source": []
  },
  {
   "cell_type": "markdown",
   "id": "238db729",
   "metadata": {},
   "source": [
    "# Data Science Tools and Ecosystem"
   ]
  },
  {
   "cell_type": "markdown",
   "id": "b1d00691",
   "metadata": {},
   "source": [
    "**Objectives:**\n",
    "- Listing popular Data Science languages\n",
    "- Listing commom Data Science libraries\n",
    "- List comon Data Science open source tools\n",
    "- python arithemetic expression"
   ]
  },
  {
   "cell_type": "markdown",
   "id": "24dbfce4",
   "metadata": {},
   "source": [
    "In this notebook, Data Science Tools and Ecosystem are summarized."
   ]
  },
  {
   "cell_type": "markdown",
   "id": "8134e517",
   "metadata": {},
   "source": [
    "Some of the popular languages that Data Scientists use are:\n",
    " 1. Python\n",
    " 2. R\n",
    " 3. C++\n",
    " 4. SQL\n",
    " 5. Julia\n",
    " 6. Scala\n",
    " 7. Javascript\n",
    " 8. Java"
   ]
  },
  {
   "cell_type": "markdown",
   "id": "ee807dcc",
   "metadata": {},
   "source": [
    "Some of the commonly used libraries used by Data Scientists include:\n",
    "1. SciKit-Learn\n",
    "2. NumPy\n",
    "3. Matplotlib\n",
    "4. SciPy\n",
    "5. Pandas\n",
    "6. Keras"
   ]
  },
  {
   "cell_type": "markdown",
   "id": "6b45c7cb",
   "metadata": {},
   "source": [
    "| Data Science Tools |\n",
    "|------------------|\n",
    "| Apache Spark      |\n",
    "| jupyter Notebook  |\n",
    "| R-studio          |\n",
    "| Apache Flink\n"
   ]
  },
  {
   "cell_type": "markdown",
   "id": "3832b1f6",
   "metadata": {},
   "source": [
    "### Below are a few examples of evaluating arithmetic expressions in Python\n",
    "1. x + Y = addition\n",
    "2. x - y = Subtraction\n",
    "3. X**y  = exponential\n",
    "4. x/y = division\n",
    "5. x > y = greater than\n",
    "6. x < y = less than"
   ]
  },
  {
   "cell_type": "code",
   "execution_count": 3,
   "id": "406d23a0",
   "metadata": {},
   "outputs": [
    {
     "name": "stdout",
     "output_type": "stream",
     "text": [
      "17\n"
     ]
    }
   ],
   "source": [
    "#This a simple arithmetic expression to mutiply then add integers\n",
    "print ((3*4)+5)"
   ]
  },
  {
   "cell_type": "code",
   "execution_count": 4,
   "id": "738d70e3",
   "metadata": {},
   "outputs": [
    {
     "name": "stdout",
     "output_type": "stream",
     "text": [
      "3.3333333333333335\n"
     ]
    }
   ],
   "source": [
    "#This will convert 200 minutes to hours by diving by 60\n",
    "\n",
    "print(200/60)"
   ]
  },
  {
   "cell_type": "markdown",
   "id": "4874fc71",
   "metadata": {},
   "source": [
    "## Author\n",
    "\n",
    "Anih Nathan Chizoba"
   ]
  },
  {
   "cell_type": "code",
   "execution_count": null,
   "id": "d518e729",
   "metadata": {},
   "outputs": [],
   "source": []
  }
 ],
 "metadata": {
  "kernelspec": {
   "display_name": "Python 3 (ipykernel)",
   "language": "python",
   "name": "python3"
  },
  "language_info": {
   "codemirror_mode": {
    "name": "ipython",
    "version": 3
   },
   "file_extension": ".py",
   "mimetype": "text/x-python",
   "name": "python",
   "nbconvert_exporter": "python",
   "pygments_lexer": "ipython3",
   "version": "3.10.9"
  }
 },
 "nbformat": 4,
 "nbformat_minor": 5
}
